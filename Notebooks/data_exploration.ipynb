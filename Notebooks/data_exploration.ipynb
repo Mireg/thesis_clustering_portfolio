{
 "cells": [
  {
   "cell_type": "code",
   "execution_count": 1,
   "metadata": {},
   "outputs": [],
   "source": [
    "import pandas as pd"
   ]
  },
  {
   "cell_type": "code",
   "execution_count": 5,
   "metadata": {},
   "outputs": [],
   "source": [
    "df_edgar = pd.read_csv(\"../Data/sec_data/pivoted_financial_data.csv\")"
   ]
  },
  {
   "cell_type": "code",
   "execution_count": 6,
   "metadata": {},
   "outputs": [
    {
     "data": {
      "text/plain": [
       "ticker                    0\n",
       "date                      0\n",
       "IncomeTax               641\n",
       "DilutedShares          1352\n",
       "WeightedShares         1498\n",
       "Assets                 1607\n",
       "Liabilities            1661\n",
       "FinancingCashFlow      2096\n",
       "InvestingCashFlow      2168\n",
       "NetIncome              2190\n",
       "OperatingCashFlow      2226\n",
       "StockholdersEquity     3105\n",
       "PPE                    4087\n",
       "Goodwill               4937\n",
       "CurrentAssets          5580\n",
       "CurrentLiabilities     5591\n",
       "ShareBasedComp         6166\n",
       "OperatingIncome        6207\n",
       "InterestExpense        6713\n",
       "CapEx                  7121\n",
       "Revenue                8396\n",
       "SGA                   10153\n",
       "Amortization          11086\n",
       "COGS                  12828\n",
       "GrossProfit           12979\n",
       "LongTermDebt          13574\n",
       "RnD                   16556\n",
       "OperatingExpenses     16741\n",
       "dtype: int64"
      ]
     },
     "execution_count": 6,
     "metadata": {},
     "output_type": "execute_result"
    }
   ],
   "source": [
    "missing_edgar = df_edgar.isna().sum()\n",
    "missing_edgar = missing_edgar.sort_values()\n",
    "missing_edgar.head(30)"
   ]
  },
  {
   "cell_type": "code",
   "execution_count": 7,
   "metadata": {},
   "outputs": [
    {
     "data": {
      "text/plain": [
       "Index(['ticker', 'date', 'Amortization', 'Assets', 'COGS', 'CapEx',\n",
       "       'CurrentAssets', 'CurrentLiabilities', 'DilutedShares',\n",
       "       'FinancingCashFlow', 'Goodwill', 'GrossProfit', 'IncomeTax',\n",
       "       'InterestExpense', 'InvestingCashFlow', 'Liabilities', 'LongTermDebt',\n",
       "       'NetIncome', 'OperatingCashFlow', 'OperatingExpenses',\n",
       "       'OperatingIncome', 'PPE', 'Revenue', 'RnD', 'SGA', 'ShareBasedComp',\n",
       "       'StockholdersEquity', 'WeightedShares'],\n",
       "      dtype='object')"
      ]
     },
     "execution_count": 7,
     "metadata": {},
     "output_type": "execute_result"
    }
   ],
   "source": [
    "df_edgar.columns"
   ]
  },
  {
   "cell_type": "code",
   "execution_count": 9,
   "metadata": {},
   "outputs": [
    {
     "name": "stdout",
     "output_type": "stream",
     "text": [
      "JSON converted to CSV successfully!\n"
     ]
    }
   ],
   "source": [
    "import pandas as pd\n",
    "import json\n",
    "\n",
    "\n",
    "json_data = pd.read_json(\"../Data/company_tickers.json\") \n",
    "json_data.to_csv(\"company_tickers.csv\", index=False)\n",
    "\n",
    "print(\"JSON converted to CSV successfully!\")"
   ]
  }
 ],
 "metadata": {
  "kernelspec": {
   "display_name": "thesis_venv",
   "language": "python",
   "name": "python3"
  },
  "language_info": {
   "codemirror_mode": {
    "name": "ipython",
    "version": 3
   },
   "file_extension": ".py",
   "mimetype": "text/x-python",
   "name": "python",
   "nbconvert_exporter": "python",
   "pygments_lexer": "ipython3",
   "version": "3.10.13"
  }
 },
 "nbformat": 4,
 "nbformat_minor": 2
}
