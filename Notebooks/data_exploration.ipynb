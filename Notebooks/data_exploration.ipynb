{
 "cells": [
  {
   "cell_type": "code",
   "execution_count": 24,
   "metadata": {},
   "outputs": [],
   "source": [
    "import pandas as pd\n",
    "import matplotlib.pyplot as plt"
   ]
  },
  {
   "cell_type": "code",
   "execution_count": 26,
   "metadata": {},
   "outputs": [],
   "source": [
    "df = pd.read_csv(\"C:/Users/user/Repos/thesis_clustering_portfolio/Data/financials_data_yf.csv\")"
   ]
  },
  {
   "cell_type": "code",
   "execution_count": 48,
   "metadata": {},
   "outputs": [
    {
     "data": {
      "text/plain": [
       "Ticker                                                          0\n",
       "Date                                                            0\n",
       "Tax Effect Of Unusual Items                                   369\n",
       "Tax Rate For Calcs                                            369\n",
       "Net Income From Continuing Operation Net Minority Interest    369\n",
       "Normalized Income                                             369\n",
       "Net Income Continuous Operations                              369\n",
       "Pretax Income                                                 369\n",
       "Net Income Common Stockholders                                369\n",
       "Net Income                                                    369\n",
       "Diluted NI Availto Com Stockholders                           369\n",
       "Basic EPS                                                     369\n",
       "Basic Average Shares                                          369\n",
       "Diluted EPS                                                   369\n",
       "Diluted Average Shares                                        369\n",
       "Net Income From Continuing And Discontinued Operation         369\n",
       "Net Income Including Noncontrolling Interests                 369\n",
       "Operating Revenue                                             369\n",
       "Total Revenue                                                 369\n",
       "Reconciled Depreciation                                       385\n",
       "Tax Provision                                                 393\n",
       "Net Interest Income                                           410\n",
       "Interest Expense                                              467\n",
       "Total Expenses                                                469\n",
       "EBIT                                                          477\n",
       "Net Non Operating Interest Income Expense                     510\n",
       "Selling General And Administration                            535\n",
       "Other Income Expense                                          549\n",
       "Operating Expense                                             553\n",
       "Operating Income                                              557\n",
       "dtype: int64"
      ]
     },
     "execution_count": 48,
     "metadata": {},
     "output_type": "execute_result"
    }
   ],
   "source": [
    "missing = df.isna().sum()\n",
    "missing = missing.sort_values()\n",
    "missing.head(30)"
   ]
  }
 ],
 "metadata": {
  "kernelspec": {
   "display_name": "Python 3",
   "language": "python",
   "name": "python3"
  },
  "language_info": {
   "codemirror_mode": {
    "name": "ipython",
    "version": 3
   },
   "file_extension": ".py",
   "mimetype": "text/x-python",
   "name": "python",
   "nbconvert_exporter": "python",
   "pygments_lexer": "ipython3",
   "version": "3.11.9"
  }
 },
 "nbformat": 4,
 "nbformat_minor": 2
}
