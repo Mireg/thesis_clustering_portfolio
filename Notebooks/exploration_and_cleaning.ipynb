{
 "cells": [
  {
   "cell_type": "code",
   "execution_count": 3,
   "metadata": {},
   "outputs": [],
   "source": [
    "import pandas as pd\n",
    "import json"
   ]
  },
  {
   "cell_type": "code",
   "execution_count": 4,
   "metadata": {},
   "outputs": [],
   "source": [
    "# Load data fetched from SEC API using sec_edgar_fetcher.py\n",
    "df_edgar = pd.read_csv(\"../Data/sec_data/pivoted_financial_data.csv\")"
   ]
  },
  {
   "cell_type": "code",
   "execution_count": null,
   "metadata": {},
   "outputs": [
    {
     "data": {
      "text/plain": [
       "ticker                    0\n",
       "date                      0\n",
       "IncomeTax               639\n",
       "DilutedShares          1304\n",
       "WeightedShares         1457\n",
       "Assets                 1596\n",
       "Liabilities            1648\n",
       "FinancingCashFlow      2087\n",
       "InvestingCashFlow      2129\n",
       "NetIncome              2173\n",
       "OperatingCashFlow      2209\n",
       "StockholdersEquity     3075\n",
       "PPE                    4051\n",
       "Goodwill               4861\n",
       "CurrentAssets          5569\n",
       "CurrentLiabilities     5580\n",
       "ShareBasedComp         6111\n",
       "OperatingIncome        6209\n",
       "InterestExpense        6625\n",
       "CapEx                  7074\n",
       "Revenue                8357\n",
       "SGA                   10033\n",
       "Amortization          10968\n",
       "COGS                  12718\n",
       "GrossProfit           12889\n",
       "LongTermDebt          13430\n",
       "RnD                   16396\n",
       "OperatingExpenses     16606\n",
       "dtype: int64"
      ]
     },
     "execution_count": 5,
     "metadata": {},
     "output_type": "execute_result"
    }
   ],
   "source": [
    "# Extract the missing values, will be used to help with feature selection\n",
    "missing_edgar = df_edgar.isna().sum()\n",
    "missing_edgar = missing_edgar.sort_values()\n",
    "missing_edgar.head(30)"
   ]
  },
  {
   "cell_type": "code",
   "execution_count": 6,
   "metadata": {},
   "outputs": [
    {
     "data": {
      "text/plain": [
       "Index(['ticker', 'date', 'Amortization', 'Assets', 'COGS', 'CapEx',\n",
       "       'CurrentAssets', 'CurrentLiabilities', 'DilutedShares',\n",
       "       'FinancingCashFlow', 'Goodwill', 'GrossProfit', 'IncomeTax',\n",
       "       'InterestExpense', 'InvestingCashFlow', 'Liabilities', 'LongTermDebt',\n",
       "       'NetIncome', 'OperatingCashFlow', 'OperatingExpenses',\n",
       "       'OperatingIncome', 'PPE', 'Revenue', 'RnD', 'SGA', 'ShareBasedComp',\n",
       "       'StockholdersEquity', 'WeightedShares'],\n",
       "      dtype='object')"
      ]
     },
     "execution_count": 6,
     "metadata": {},
     "output_type": "execute_result"
    }
   ],
   "source": [
    "df_edgar.columns"
   ]
  },
  {
   "cell_type": "code",
   "execution_count": 7,
   "metadata": {},
   "outputs": [],
   "source": [
    "# Transforming json cik file to csv for easier use\n",
    "import json\n",
    "\n",
    "json_data = pd.read_json(\"../Data/company_tickers.json\").T\n",
    "json_data.columns = [\"cik\", \"ticker\", \"company_name\"]\n",
    "json_data.to_csv(\"../Data/company_tickers.csv\", index=False)"
   ]
  },
  {
   "cell_type": "code",
   "execution_count": null,
   "metadata": {},
   "outputs": [
    {
     "data": {
      "text/html": [
       "<div>\n",
       "<style scoped>\n",
       "    .dataframe tbody tr th:only-of-type {\n",
       "        vertical-align: middle;\n",
       "    }\n",
       "\n",
       "    .dataframe tbody tr th {\n",
       "        vertical-align: top;\n",
       "    }\n",
       "\n",
       "    .dataframe thead th {\n",
       "        text-align: right;\n",
       "    }\n",
       "</style>\n",
       "<table border=\"1\" class=\"dataframe\">\n",
       "  <thead>\n",
       "    <tr style=\"text-align: right;\">\n",
       "      <th></th>\n",
       "      <th>cik</th>\n",
       "      <th>company_name</th>\n",
       "      <th>ticker</th>\n",
       "    </tr>\n",
       "  </thead>\n",
       "  <tbody>\n",
       "    <tr>\n",
       "      <th>0</th>\n",
       "      <td>355627</td>\n",
       "      <td>CTI GROUP HOLDINGS INC</td>\n",
       "      <td>CTIG</td>\n",
       "    </tr>\n",
       "    <tr>\n",
       "      <th>1</th>\n",
       "      <td>1289592</td>\n",
       "      <td>Tower Group, Inc.</td>\n",
       "      <td>TWGP</td>\n",
       "    </tr>\n",
       "    <tr>\n",
       "      <th>2</th>\n",
       "      <td>1022345</td>\n",
       "      <td>MARINER ENERGY INC</td>\n",
       "      <td>ME</td>\n",
       "    </tr>\n",
       "    <tr>\n",
       "      <th>3</th>\n",
       "      <td>1401688</td>\n",
       "      <td>Vitacost.com, Inc.</td>\n",
       "      <td>VITC</td>\n",
       "    </tr>\n",
       "    <tr>\n",
       "      <th>4</th>\n",
       "      <td>857005</td>\n",
       "      <td>PARAMETRIC TECHNOLOGY CORP</td>\n",
       "      <td>PMTC</td>\n",
       "    </tr>\n",
       "    <tr>\n",
       "      <th>...</th>\n",
       "      <td>...</td>\n",
       "      <td>...</td>\n",
       "      <td>...</td>\n",
       "    </tr>\n",
       "    <tr>\n",
       "      <th>69275</th>\n",
       "      <td>311817</td>\n",
       "      <td>HMG COURTLAND PROPERTIES INC</td>\n",
       "      <td>hmg</td>\n",
       "    </tr>\n",
       "    <tr>\n",
       "      <th>69353</th>\n",
       "      <td>1174228</td>\n",
       "      <td>NURX PHARMACEUTICALS, INC.</td>\n",
       "      <td>NUXP</td>\n",
       "    </tr>\n",
       "    <tr>\n",
       "      <th>69394</th>\n",
       "      <td>1289636</td>\n",
       "      <td>PROFIRE ENERGY INC</td>\n",
       "      <td>PFIE</td>\n",
       "    </tr>\n",
       "    <tr>\n",
       "      <th>69628</th>\n",
       "      <td>1271057</td>\n",
       "      <td>CHINA-BIOTICS, INC</td>\n",
       "      <td>CHBT</td>\n",
       "    </tr>\n",
       "    <tr>\n",
       "      <th>69642</th>\n",
       "      <td>1009304</td>\n",
       "      <td>I2 TECHNOLOGIES INC</td>\n",
       "      <td>itwo</td>\n",
       "    </tr>\n",
       "  </tbody>\n",
       "</table>\n",
       "<p>5908 rows × 3 columns</p>\n",
       "</div>"
      ],
      "text/plain": [
       "           cik                  company_name ticker\n",
       "0       355627        CTI GROUP HOLDINGS INC   CTIG\n",
       "1      1289592             Tower Group, Inc.   TWGP\n",
       "2      1022345            MARINER ENERGY INC     ME\n",
       "3      1401688            Vitacost.com, Inc.   VITC\n",
       "4       857005    PARAMETRIC TECHNOLOGY CORP   PMTC\n",
       "...        ...                           ...    ...\n",
       "69275   311817  HMG COURTLAND PROPERTIES INC    hmg\n",
       "69353  1174228    NURX PHARMACEUTICALS, INC.   NUXP\n",
       "69394  1289636            PROFIRE ENERGY INC   PFIE\n",
       "69628  1271057            CHINA-BIOTICS, INC   CHBT\n",
       "69642  1009304           I2 TECHNOLOGIES INC   itwo\n",
       "\n",
       "[5908 rows x 3 columns]"
      ]
     },
     "execution_count": 8,
     "metadata": {},
     "output_type": "execute_result"
    }
   ],
   "source": [
    "# Reading data on 345 filings (insider trades) from Q1 2010.\n",
    "# This data contains exact tickers what allows me to get CIKs for companies that are missing in the edgar data.\n",
    "\n",
    "df345 = pd.read_csv(\"../Data/345-filings/SUBMISSION.tsv\", sep='\\t')\n",
    "df345 = df345[['ISSUERCIK', 'ISSUERNAME', 'ISSUERTRADINGSYMBOL']].drop_duplicates()\n",
    "df345.columns = [\"cik\", \"company_name\", \"ticker\"]\n",
    "df345"
   ]
  },
  {
   "cell_type": "code",
   "execution_count": 14,
   "metadata": {},
   "outputs": [],
   "source": [
    "missing_df = pd.read_csv(\"../Data/sec_data/missing_ciks_2010vol1.csv\")\n",
    "\n",
    "df_ciks = missing_df.merge(df345, on=\"ticker\", how=\"left\")"
   ]
  },
  {
   "cell_type": "code",
   "execution_count": 21,
   "metadata": {},
   "outputs": [],
   "source": [
    "company_tickers = pd.read_csv(\"../Data/company_tickers.csv\")\n",
    "tickers_new = pd.concat([company_tickers, df_ciks], axis=0)\n",
    "\n",
    "# Handle missing values before converting to int\n",
    "tickers_new['cik'] = tickers_new['cik'].fillna(-1).astype(int)\n",
    "\n",
    "tickers_new.to_csv(\"../Data/company_tickers_2010_full.csv\", index=False)"
   ]
  },
  {
   "cell_type": "code",
   "execution_count": 26,
   "metadata": {},
   "outputs": [
    {
     "data": {
      "text/plain": [
       "np.int64(4)"
      ]
     },
     "execution_count": 26,
     "metadata": {},
     "output_type": "execute_result"
    }
   ],
   "source": [
    "#Only 4 CIKs are missing now for 2010\n",
    "cik_minus_one_count = (tickers_new['cik'] == -1).sum()\n",
    "cik_minus_one_count"
   ]
  }
 ],
 "metadata": {
  "kernelspec": {
   "display_name": "thesis_venv",
   "language": "python",
   "name": "python3"
  },
  "language_info": {
   "codemirror_mode": {
    "name": "ipython",
    "version": 3
   },
   "file_extension": ".py",
   "mimetype": "text/x-python",
   "name": "python",
   "nbconvert_exporter": "python",
   "pygments_lexer": "ipython3",
   "version": "3.10.13"
  }
 },
 "nbformat": 4,
 "nbformat_minor": 2
}
