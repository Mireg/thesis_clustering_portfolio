{
 "cells": [
  {
   "cell_type": "code",
   "execution_count": 1,
   "metadata": {},
   "outputs": [],
   "source": [
    "import pandas as pd\n",
    "import numpy as np\n",
    "from sklearn.cluster import KMeans\n",
    "from sklearn.metrics import silhouette_score"
   ]
  },
  {
   "cell_type": "code",
   "execution_count": 2,
   "metadata": {},
   "outputs": [
    {
     "data": {
      "text/plain": [
       "Index(['avg_ROA', 'ROA_volatility', 'avg_ROE', 'ROE_volatility',\n",
       "       'avg_OperatingMargin', 'OperatingMargin_volatility',\n",
       "       'avg_AssetTurnover', 'AssetTurnover_volatility', 'avg_CurrentRatio',\n",
       "       'CurrentRatio_volatility', 'avg_Leverage', 'Leverage_volatility',\n",
       "       'avg_DebtToEquity', 'DebtToEquity_volatility', 'avg_log_Revenue',\n",
       "       'log_Revenue_volatility', 'avg_log_Assets', 'log_Assets_volatility',\n",
       "       'avg_log_NetIncome', 'log_NetIncome_volatility',\n",
       "       'avg_log_OperatingIncome', 'log_OperatingIncome_volatility',\n",
       "       'avg_log_Liabilities', 'log_Liabilities_volatility',\n",
       "       'avg_log_StockholdersEquity', 'log_StockholdersEquity_volatility',\n",
       "       'avg_log_CurrentAssets', 'log_CurrentAssets_volatility',\n",
       "       'avg_log_CurrentLiabilities', 'log_CurrentLiabilities_volatility',\n",
       "       'avg_log_LongTermDebt', 'log_LongTermDebt_volatility', 'avg_log_CapEx',\n",
       "       'log_CapEx_volatility', 'Revenue_growth', 'Assets_growth',\n",
       "       'NetIncome_growth', 'capex_intensity', 'Revenue_growth_imputed',\n",
       "       'Assets_growth_imputed', 'NetIncome_growth_imputed',\n",
       "       'capex_intensity_imputed', 'has_rnd', 'has_goodwill',\n",
       "       'has_longtermdebt', 'core_completeness', 'reporting_consistency'],\n",
       "      dtype='object')"
      ]
     },
     "execution_count": 2,
     "metadata": {},
     "output_type": "execute_result"
    }
   ],
   "source": [
    "# Load your processed financial data\n",
    "financial_features = pd.read_csv('../data/processed/financial_features_2010.csv', index_col=0)\n",
    "financial_features.columns"
   ]
  },
  {
   "cell_type": "code",
   "execution_count": 3,
   "metadata": {},
   "outputs": [],
   "source": [
    "tickers = financial_features.index.tolist()\n",
    "\n",
    "X = financial_features.values"
   ]
  },
  {
   "cell_type": "code",
   "execution_count": null,
   "metadata": {},
   "outputs": [],
   "source": [
    "df2 = financial_features[['avg_ROA', 'avg_AssetTurnover','avg_CurrentRatio','avg_Leverage','avg_log_Assets','Revenue_growth','ROA_volatility','has_rnd','has_goodwill','core_completeness']]\n",
    "df2\n",
    "\n",
    "X = df2.values"
   ]
  },
  {
   "cell_type": "code",
   "execution_count": 5,
   "metadata": {},
   "outputs": [],
   "source": [
    "kmeans = KMeans(n_clusters=10, random_state=0).fit(X)\n",
    "labels = kmeans.fit_predict(X)\n",
    "\n",
    "score = silhouette_score(X, labels)"
   ]
  },
  {
   "cell_type": "code",
   "execution_count": 6,
   "metadata": {},
   "outputs": [
    {
     "name": "stdout",
     "output_type": "stream",
     "text": [
      "Testing different numbers of clusters...\n",
      "k=2, silhouette score: 0.1940\n",
      "k=3, silhouette score: 0.1984\n",
      "k=4, silhouette score: 0.2192\n",
      "k=5, silhouette score: 0.2339\n",
      "k=6, silhouette score: 0.1945\n",
      "k=7, silhouette score: 0.2374\n",
      "k=8, silhouette score: 0.2608\n",
      "k=9, silhouette score: 0.2383\n",
      "k=10, silhouette score: 0.2407\n",
      "k=11, silhouette score: 0.2466\n",
      "k=12, silhouette score: 0.2315\n",
      "k=13, silhouette score: 0.2059\n",
      "k=14, silhouette score: 0.2051\n",
      "k=15, silhouette score: 0.2019\n",
      "k=16, silhouette score: 0.2102\n",
      "k=17, silhouette score: 0.2088\n",
      "k=18, silhouette score: 0.1997\n",
      "k=19, silhouette score: 0.1987\n",
      "k=20, silhouette score: 0.2066\n",
      "k=21, silhouette score: 0.2046\n",
      "k=22, silhouette score: 0.1946\n",
      "k=23, silhouette score: 0.2116\n",
      "k=24, silhouette score: 0.2059\n",
      "k=25, silhouette score: 0.2038\n",
      "k=26, silhouette score: 0.1919\n",
      "k=27, silhouette score: 0.1939\n",
      "k=28, silhouette score: 0.1873\n",
      "k=29, silhouette score: 0.2168\n",
      "k=30, silhouette score: 0.2065\n",
      "k=31, silhouette score: 0.1890\n",
      "k=32, silhouette score: 0.1966\n",
      "k=33, silhouette score: 0.1739\n",
      "k=34, silhouette score: 0.1919\n",
      "k=35, silhouette score: 0.1834\n",
      "k=36, silhouette score: 0.1933\n",
      "k=37, silhouette score: 0.1949\n",
      "k=38, silhouette score: 0.1842\n",
      "k=39, silhouette score: 0.1906\n",
      "k=40, silhouette score: 0.1773\n",
      "k=41, silhouette score: 0.1859\n",
      "k=42, silhouette score: 0.1757\n",
      "k=43, silhouette score: 0.1854\n",
      "k=44, silhouette score: 0.1865\n",
      "k=45, silhouette score: 0.1861\n",
      "k=46, silhouette score: 0.1776\n",
      "k=47, silhouette score: 0.1825\n",
      "k=48, silhouette score: 0.1882\n",
      "k=49, silhouette score: 0.1832\n",
      "k=50, silhouette score: 0.1782\n",
      "k=51, silhouette score: 0.1862\n",
      "k=52, silhouette score: 0.1797\n",
      "k=53, silhouette score: 0.1889\n",
      "k=54, silhouette score: 0.1705\n",
      "k=55, silhouette score: 0.1846\n",
      "k=56, silhouette score: 0.1751\n",
      "k=57, silhouette score: 0.1862\n",
      "k=58, silhouette score: 0.1853\n",
      "k=59, silhouette score: 0.1868\n",
      "k=60, silhouette score: 0.1856\n",
      "k=61, silhouette score: 0.1782\n",
      "k=62, silhouette score: 0.1868\n",
      "k=63, silhouette score: 0.1832\n",
      "k=64, silhouette score: 0.1756\n",
      "k=65, silhouette score: 0.1790\n",
      "k=66, silhouette score: 0.1770\n",
      "k=67, silhouette score: 0.1763\n",
      "k=68, silhouette score: 0.1706\n",
      "k=69, silhouette score: 0.1851\n",
      "k=70, silhouette score: 0.1723\n",
      "k=71, silhouette score: 0.1832\n",
      "k=72, silhouette score: 0.1824\n",
      "k=73, silhouette score: 0.1805\n",
      "k=74, silhouette score: 0.1804\n",
      "k=75, silhouette score: 0.1812\n",
      "k=76, silhouette score: 0.1747\n",
      "k=77, silhouette score: 0.1759\n",
      "k=78, silhouette score: 0.1696\n",
      "k=79, silhouette score: 0.1826\n",
      "k=80, silhouette score: 0.1945\n",
      "k=81, silhouette score: 0.1800\n",
      "k=82, silhouette score: 0.1788\n",
      "k=83, silhouette score: 0.1817\n",
      "k=84, silhouette score: 0.1869\n",
      "k=85, silhouette score: 0.1828\n",
      "k=86, silhouette score: 0.1857\n",
      "k=87, silhouette score: 0.1775\n",
      "k=88, silhouette score: 0.1809\n",
      "k=89, silhouette score: 0.1823\n",
      "k=90, silhouette score: 0.1826\n",
      "k=91, silhouette score: 0.1904\n",
      "k=92, silhouette score: 0.1784\n",
      "k=93, silhouette score: 0.1733\n",
      "k=94, silhouette score: 0.1795\n",
      "k=95, silhouette score: 0.1812\n",
      "k=96, silhouette score: 0.1821\n",
      "k=97, silhouette score: 0.1865\n",
      "k=98, silhouette score: 0.1747\n",
      "k=99, silhouette score: 0.1694\n",
      "\n",
      "Best number of clusters: 8 (silhouette score: 0.2608)\n",
      "\n",
      "Cluster sizes:\n",
      "Cluster 0: 197 samples\n",
      "Cluster 1: 146 samples\n",
      "Cluster 2: 33 samples\n",
      "Cluster 3: 39 samples\n",
      "Cluster 4: 3 samples\n",
      "Cluster 5: 48 samples\n",
      "Cluster 6: 9 samples\n",
      "Cluster 7: 1 samples\n",
      "\n",
      "Results saved to 'kmeans_clusters.csv'\n"
     ]
    }
   ],
   "source": [
    "from sklearn.preprocessing import StandardScaler\n",
    "\n",
    "# Try different k values\n",
    "# Standardize the features\n",
    "scaler = StandardScaler()\n",
    "X_scaled = scaler.fit_transform(X)\n",
    "k_values = range(2, 100)  # Test from 2 to 10 clusters\n",
    "best_score = -1\n",
    "best_k = None\n",
    "best_labels = None\n",
    "\n",
    "print(\"Testing different numbers of clusters...\")\n",
    "for k in k_values:\n",
    "    # Run K-means\n",
    "    kmeans = KMeans(n_clusters=k, random_state=42, n_init=10)\n",
    "    labels = kmeans.fit_predict(X_scaled)\n",
    "    \n",
    "    # Calculate silhouette score\n",
    "    score = silhouette_score(X_scaled, labels)\n",
    "    \n",
    "    print(f\"k={k}, silhouette score: {score:.4f}\")\n",
    "    \n",
    "    # Keep track of the best model\n",
    "    if score > best_score:\n",
    "        best_score = score\n",
    "        best_k = k\n",
    "        best_labels = labels\n",
    "\n",
    "print(f\"\\nBest number of clusters: {best_k} (silhouette score: {best_score:.4f})\")\n",
    "\n",
    "# Count samples in each cluster\n",
    "unique_clusters, counts = np.unique(best_labels, return_counts=True)\n",
    "print(\"\\nCluster sizes:\")\n",
    "for cluster, count in zip(unique_clusters, counts):\n",
    "    print(f\"Cluster {cluster}: {count} samples\")\n",
    "\n",
    "# Save the results\n",
    "results_df = pd.DataFrame({\n",
    "    'ticker': tickers,\n",
    "    'cluster': best_labels\n",
    "})\n",
    "\n",
    "print(\"\\nResults saved to 'kmeans_clusters.csv'\")"
   ]
  },
  {
   "cell_type": "code",
   "execution_count": 9,
   "metadata": {},
   "outputs": [
    {
     "data": {
      "text/html": [
       "Tracking run with wandb version 0.19.7"
      ],
      "text/plain": [
       "<IPython.core.display.HTML object>"
      ]
     },
     "metadata": {},
     "output_type": "display_data"
    },
    {
     "data": {
      "text/html": [
       "Run data is saved locally in <code>/home/mireg/Repos/thesis_clustering_portfolio/notebooks/wandb/run-20250301_211630-1iozw9qd</code>"
      ],
      "text/plain": [
       "<IPython.core.display.HTML object>"
      ]
     },
     "metadata": {},
     "output_type": "display_data"
    },
    {
     "data": {
      "text/html": [
       "Syncing run <strong><a href='https://wandb.ai/solo-mireg/clustering-portfolios/runs/1iozw9qd' target=\"_blank\">prime-spaceship-1</a></strong> to <a href='https://wandb.ai/solo-mireg/clustering-portfolios' target=\"_blank\">Weights & Biases</a> (<a href='https://wandb.me/developer-guide' target=\"_blank\">docs</a>)<br>"
      ],
      "text/plain": [
       "<IPython.core.display.HTML object>"
      ]
     },
     "metadata": {},
     "output_type": "display_data"
    },
    {
     "data": {
      "text/html": [
       " View project at <a href='https://wandb.ai/solo-mireg/clustering-portfolios' target=\"_blank\">https://wandb.ai/solo-mireg/clustering-portfolios</a>"
      ],
      "text/plain": [
       "<IPython.core.display.HTML object>"
      ]
     },
     "metadata": {},
     "output_type": "display_data"
    },
    {
     "data": {
      "text/html": [
       " View run at <a href='https://wandb.ai/solo-mireg/clustering-portfolios/runs/1iozw9qd' target=\"_blank\">https://wandb.ai/solo-mireg/clustering-portfolios/runs/1iozw9qd</a>"
      ],
      "text/plain": [
       "<IPython.core.display.HTML object>"
      ]
     },
     "metadata": {},
     "output_type": "display_data"
    },
    {
     "data": {
      "text/html": [],
      "text/plain": [
       "<IPython.core.display.HTML object>"
      ]
     },
     "metadata": {},
     "output_type": "display_data"
    },
    {
     "name": "stderr",
     "output_type": "stream",
     "text": [
      "\u001b[34m\u001b[1mwandb\u001b[0m: \u001b[32m\u001b[41mERROR\u001b[0m Control-C detected -- Run data was not synced\n"
     ]
    },
    {
     "ename": "KeyboardInterrupt",
     "evalue": "",
     "output_type": "error",
     "traceback": [
      "\u001b[0;31m---------------------------------------------------------------------------\u001b[0m",
      "\u001b[0;31mKeyboardInterrupt\u001b[0m                         Traceback (most recent call last)",
      "Cell \u001b[0;32mIn[9], line 33\u001b[0m\n\u001b[1;32m     30\u001b[0m     run\u001b[38;5;241m.\u001b[39mlog({\u001b[38;5;124m\"\u001b[39m\u001b[38;5;124macc\u001b[39m\u001b[38;5;124m\"\u001b[39m: acc, \u001b[38;5;124m\"\u001b[39m\u001b[38;5;124mloss\u001b[39m\u001b[38;5;124m\"\u001b[39m: loss})\n\u001b[1;32m     32\u001b[0m \u001b[38;5;66;03m# Finish the run and upload any remaining data.\u001b[39;00m\n\u001b[0;32m---> 33\u001b[0m \u001b[43mrun\u001b[49m\u001b[38;5;241;43m.\u001b[39;49m\u001b[43mfinish\u001b[49m\u001b[43m(\u001b[49m\u001b[43m)\u001b[49m\n",
      "File \u001b[0;32m~/Repos/thesis_clustering_portfolio/thesis_venv/lib/python3.10/site-packages/wandb/sdk/wandb_run.py:449\u001b[0m, in \u001b[0;36m_run_decorator._noop.<locals>.wrapper\u001b[0;34m(self, *args, **kwargs)\u001b[0m\n\u001b[1;32m    446\u001b[0m         wandb\u001b[38;5;241m.\u001b[39mtermwarn(message, repeat\u001b[38;5;241m=\u001b[39m\u001b[38;5;28;01mFalse\u001b[39;00m)\n\u001b[1;32m    447\u001b[0m         \u001b[38;5;28;01mreturn\u001b[39;00m \u001b[38;5;28mcls\u001b[39m\u001b[38;5;241m.\u001b[39mDummy()\n\u001b[0;32m--> 449\u001b[0m \u001b[38;5;28;01mreturn\u001b[39;00m \u001b[43mfunc\u001b[49m\u001b[43m(\u001b[49m\u001b[38;5;28;43mself\u001b[39;49m\u001b[43m,\u001b[49m\u001b[43m \u001b[49m\u001b[38;5;241;43m*\u001b[39;49m\u001b[43margs\u001b[49m\u001b[43m,\u001b[49m\u001b[43m \u001b[49m\u001b[38;5;241;43m*\u001b[39;49m\u001b[38;5;241;43m*\u001b[39;49m\u001b[43mkwargs\u001b[49m\u001b[43m)\u001b[49m\n",
      "File \u001b[0;32m~/Repos/thesis_clustering_portfolio/thesis_venv/lib/python3.10/site-packages/wandb/sdk/wandb_run.py:391\u001b[0m, in \u001b[0;36m_run_decorator._attach.<locals>.wrapper\u001b[0;34m(self, *args, **kwargs)\u001b[0m\n\u001b[1;32m    389\u001b[0m         \u001b[38;5;28;01mraise\u001b[39;00m e\n\u001b[1;32m    390\u001b[0m     \u001b[38;5;28mcls\u001b[39m\u001b[38;5;241m.\u001b[39m_is_attaching \u001b[38;5;241m=\u001b[39m \u001b[38;5;124m\"\u001b[39m\u001b[38;5;124m\"\u001b[39m\n\u001b[0;32m--> 391\u001b[0m \u001b[38;5;28;01mreturn\u001b[39;00m \u001b[43mfunc\u001b[49m\u001b[43m(\u001b[49m\u001b[38;5;28;43mself\u001b[39;49m\u001b[43m,\u001b[49m\u001b[43m \u001b[49m\u001b[38;5;241;43m*\u001b[39;49m\u001b[43margs\u001b[49m\u001b[43m,\u001b[49m\u001b[43m \u001b[49m\u001b[38;5;241;43m*\u001b[39;49m\u001b[38;5;241;43m*\u001b[39;49m\u001b[43mkwargs\u001b[49m\u001b[43m)\u001b[49m\n",
      "File \u001b[0;32m~/Repos/thesis_clustering_portfolio/thesis_venv/lib/python3.10/site-packages/wandb/sdk/wandb_run.py:2106\u001b[0m, in \u001b[0;36mRun.finish\u001b[0;34m(self, exit_code, quiet)\u001b[0m\n\u001b[1;32m   2098\u001b[0m \u001b[38;5;28;01mif\u001b[39;00m quiet \u001b[38;5;129;01mis\u001b[39;00m \u001b[38;5;129;01mnot\u001b[39;00m \u001b[38;5;28;01mNone\u001b[39;00m:\n\u001b[1;32m   2099\u001b[0m     deprecate\u001b[38;5;241m.\u001b[39mdeprecate(\n\u001b[1;32m   2100\u001b[0m         field_name\u001b[38;5;241m=\u001b[39mdeprecate\u001b[38;5;241m.\u001b[39mDeprecated\u001b[38;5;241m.\u001b[39mrun__finish_quiet,\n\u001b[1;32m   2101\u001b[0m         warning_message\u001b[38;5;241m=\u001b[39m(\n\u001b[0;32m   (...)\u001b[0m\n\u001b[1;32m   2104\u001b[0m         ),\n\u001b[1;32m   2105\u001b[0m     )\n\u001b[0;32m-> 2106\u001b[0m \u001b[38;5;28;01mreturn\u001b[39;00m \u001b[38;5;28;43mself\u001b[39;49m\u001b[38;5;241;43m.\u001b[39;49m\u001b[43m_finish\u001b[49m\u001b[43m(\u001b[49m\u001b[43mexit_code\u001b[49m\u001b[43m)\u001b[49m\n",
      "File \u001b[0;32m~/Repos/thesis_clustering_portfolio/thesis_venv/lib/python3.10/site-packages/wandb/sdk/wandb_run.py:2127\u001b[0m, in \u001b[0;36mRun._finish\u001b[0;34m(self, exit_code)\u001b[0m\n\u001b[1;32m   2124\u001b[0m \u001b[38;5;28mself\u001b[39m\u001b[38;5;241m.\u001b[39m_is_finished \u001b[38;5;241m=\u001b[39m \u001b[38;5;28;01mTrue\u001b[39;00m\n\u001b[1;32m   2126\u001b[0m \u001b[38;5;28;01mtry\u001b[39;00m:\n\u001b[0;32m-> 2127\u001b[0m     \u001b[38;5;28;43mself\u001b[39;49m\u001b[38;5;241;43m.\u001b[39;49m\u001b[43m_atexit_cleanup\u001b[49m\u001b[43m(\u001b[49m\u001b[43mexit_code\u001b[49m\u001b[38;5;241;43m=\u001b[39;49m\u001b[43mexit_code\u001b[49m\u001b[43m)\u001b[49m\n\u001b[1;32m   2129\u001b[0m     \u001b[38;5;66;03m# Run hooks that should happen after the last messages to the\u001b[39;00m\n\u001b[1;32m   2130\u001b[0m     \u001b[38;5;66;03m# internal service, like detaching the logger.\u001b[39;00m\n\u001b[1;32m   2131\u001b[0m     \u001b[38;5;28;01mfor\u001b[39;00m hook \u001b[38;5;129;01min\u001b[39;00m \u001b[38;5;28mself\u001b[39m\u001b[38;5;241m.\u001b[39m_teardown_hooks:\n",
      "File \u001b[0;32m~/Repos/thesis_clustering_portfolio/thesis_venv/lib/python3.10/site-packages/wandb/sdk/wandb_run.py:2354\u001b[0m, in \u001b[0;36mRun._atexit_cleanup\u001b[0;34m(self, exit_code)\u001b[0m\n\u001b[1;32m   2351\u001b[0m         os\u001b[38;5;241m.\u001b[39mremove(\u001b[38;5;28mself\u001b[39m\u001b[38;5;241m.\u001b[39m_settings\u001b[38;5;241m.\u001b[39mresume_fname)\n\u001b[1;32m   2353\u001b[0m \u001b[38;5;28;01mtry\u001b[39;00m:\n\u001b[0;32m-> 2354\u001b[0m     \u001b[38;5;28;43mself\u001b[39;49m\u001b[38;5;241;43m.\u001b[39;49m\u001b[43m_on_finish\u001b[49m\u001b[43m(\u001b[49m\u001b[43m)\u001b[49m\n\u001b[1;32m   2356\u001b[0m \u001b[38;5;28;01mexcept\u001b[39;00m \u001b[38;5;167;01mKeyboardInterrupt\u001b[39;00m:\n\u001b[1;32m   2357\u001b[0m     \u001b[38;5;28;01mif\u001b[39;00m \u001b[38;5;129;01mnot\u001b[39;00m wandb\u001b[38;5;241m.\u001b[39mwandb_agent\u001b[38;5;241m.\u001b[39m_is_running():  \u001b[38;5;66;03m# type: ignore\u001b[39;00m\n",
      "File \u001b[0;32m~/Repos/thesis_clustering_portfolio/thesis_venv/lib/python3.10/site-packages/wandb/sdk/wandb_run.py:2623\u001b[0m, in \u001b[0;36mRun._on_finish\u001b[0;34m(self)\u001b[0m\n\u001b[1;32m   2621\u001b[0m \u001b[38;5;66;03m# Print some final statistics.\u001b[39;00m\n\u001b[1;32m   2622\u001b[0m poll_exit_handle \u001b[38;5;241m=\u001b[39m \u001b[38;5;28mself\u001b[39m\u001b[38;5;241m.\u001b[39m_backend\u001b[38;5;241m.\u001b[39minterface\u001b[38;5;241m.\u001b[39mdeliver_poll_exit()\n\u001b[0;32m-> 2623\u001b[0m result \u001b[38;5;241m=\u001b[39m \u001b[43mpoll_exit_handle\u001b[49m\u001b[38;5;241;43m.\u001b[39;49m\u001b[43mwait_or\u001b[49m\u001b[43m(\u001b[49m\u001b[43mtimeout\u001b[49m\u001b[38;5;241;43m=\u001b[39;49m\u001b[38;5;28;43;01mNone\u001b[39;49;00m\u001b[43m)\u001b[49m\n\u001b[1;32m   2624\u001b[0m progress\u001b[38;5;241m.\u001b[39mprint_sync_dedupe_stats(\n\u001b[1;32m   2625\u001b[0m     \u001b[38;5;28mself\u001b[39m\u001b[38;5;241m.\u001b[39m_printer,\n\u001b[1;32m   2626\u001b[0m     result\u001b[38;5;241m.\u001b[39mresponse\u001b[38;5;241m.\u001b[39mpoll_exit_response,\n\u001b[1;32m   2627\u001b[0m )\n\u001b[1;32m   2629\u001b[0m \u001b[38;5;28mself\u001b[39m\u001b[38;5;241m.\u001b[39m_poll_exit_response \u001b[38;5;241m=\u001b[39m result\u001b[38;5;241m.\u001b[39mresponse\u001b[38;5;241m.\u001b[39mpoll_exit_response\n",
      "File \u001b[0;32m~/Repos/thesis_clustering_portfolio/thesis_venv/lib/python3.10/site-packages/wandb/sdk/mailbox/handles.py:107\u001b[0m, in \u001b[0;36mMailboxHandle.wait_or\u001b[0;34m(self, timeout)\u001b[0m\n\u001b[1;32m    104\u001b[0m \u001b[38;5;28;01mif\u001b[39;00m timeout \u001b[38;5;129;01mis\u001b[39;00m \u001b[38;5;129;01mnot\u001b[39;00m \u001b[38;5;28;01mNone\u001b[39;00m \u001b[38;5;129;01mand\u001b[39;00m \u001b[38;5;129;01mnot\u001b[39;00m math\u001b[38;5;241m.\u001b[39misfinite(timeout):\n\u001b[1;32m    105\u001b[0m     \u001b[38;5;28;01mraise\u001b[39;00m \u001b[38;5;167;01mValueError\u001b[39;00m(\u001b[38;5;124m\"\u001b[39m\u001b[38;5;124mTimeout must be finite or None.\u001b[39m\u001b[38;5;124m\"\u001b[39m)\n\u001b[0;32m--> 107\u001b[0m \u001b[38;5;28;01mif\u001b[39;00m \u001b[38;5;129;01mnot\u001b[39;00m \u001b[38;5;28;43mself\u001b[39;49m\u001b[38;5;241;43m.\u001b[39;49m\u001b[43m_event\u001b[49m\u001b[38;5;241;43m.\u001b[39;49m\u001b[43mwait\u001b[49m\u001b[43m(\u001b[49m\u001b[43mtimeout\u001b[49m\u001b[38;5;241;43m=\u001b[39;49m\u001b[43mtimeout\u001b[49m\u001b[43m)\u001b[49m:\n\u001b[1;32m    108\u001b[0m     \u001b[38;5;28;01mraise\u001b[39;00m \u001b[38;5;167;01mTimeoutError\u001b[39;00m(\n\u001b[1;32m    109\u001b[0m         \u001b[38;5;124mf\u001b[39m\u001b[38;5;124m\"\u001b[39m\u001b[38;5;124mTimed out waiting for response on \u001b[39m\u001b[38;5;132;01m{\u001b[39;00m\u001b[38;5;28mself\u001b[39m\u001b[38;5;241m.\u001b[39m_address\u001b[38;5;132;01m}\u001b[39;00m\u001b[38;5;124m\"\u001b[39m,\n\u001b[1;32m    110\u001b[0m     )\n\u001b[1;32m    112\u001b[0m \u001b[38;5;28;01mwith\u001b[39;00m \u001b[38;5;28mself\u001b[39m\u001b[38;5;241m.\u001b[39m_lock:\n",
      "File \u001b[0;32m~/.pyenv/versions/3.10.13/lib/python3.10/threading.py:607\u001b[0m, in \u001b[0;36mEvent.wait\u001b[0;34m(self, timeout)\u001b[0m\n\u001b[1;32m    605\u001b[0m signaled \u001b[38;5;241m=\u001b[39m \u001b[38;5;28mself\u001b[39m\u001b[38;5;241m.\u001b[39m_flag\n\u001b[1;32m    606\u001b[0m \u001b[38;5;28;01mif\u001b[39;00m \u001b[38;5;129;01mnot\u001b[39;00m signaled:\n\u001b[0;32m--> 607\u001b[0m     signaled \u001b[38;5;241m=\u001b[39m \u001b[38;5;28;43mself\u001b[39;49m\u001b[38;5;241;43m.\u001b[39;49m\u001b[43m_cond\u001b[49m\u001b[38;5;241;43m.\u001b[39;49m\u001b[43mwait\u001b[49m\u001b[43m(\u001b[49m\u001b[43mtimeout\u001b[49m\u001b[43m)\u001b[49m\n\u001b[1;32m    608\u001b[0m \u001b[38;5;28;01mreturn\u001b[39;00m signaled\n",
      "File \u001b[0;32m~/.pyenv/versions/3.10.13/lib/python3.10/threading.py:320\u001b[0m, in \u001b[0;36mCondition.wait\u001b[0;34m(self, timeout)\u001b[0m\n\u001b[1;32m    318\u001b[0m \u001b[38;5;28;01mtry\u001b[39;00m:    \u001b[38;5;66;03m# restore state no matter what (e.g., KeyboardInterrupt)\u001b[39;00m\n\u001b[1;32m    319\u001b[0m     \u001b[38;5;28;01mif\u001b[39;00m timeout \u001b[38;5;129;01mis\u001b[39;00m \u001b[38;5;28;01mNone\u001b[39;00m:\n\u001b[0;32m--> 320\u001b[0m         \u001b[43mwaiter\u001b[49m\u001b[38;5;241;43m.\u001b[39;49m\u001b[43macquire\u001b[49m\u001b[43m(\u001b[49m\u001b[43m)\u001b[49m\n\u001b[1;32m    321\u001b[0m         gotit \u001b[38;5;241m=\u001b[39m \u001b[38;5;28;01mTrue\u001b[39;00m\n\u001b[1;32m    322\u001b[0m     \u001b[38;5;28;01melse\u001b[39;00m:\n",
      "\u001b[0;31mKeyboardInterrupt\u001b[0m: "
     ]
    }
   ],
   "source": [
    "# Weights and biases test\n",
    "\n",
    "import random\n",
    "\n",
    "import wandb\n",
    "\n",
    "# Start a new wandb run to track this script.\n",
    "run = wandb.init(\n",
    "    # Set the wandb entity where your project will be logged (generally your team name).\n",
    "    entity=\"solo-mireg\",\n",
    "    # Set the wandb project where this run will be logged.\n",
    "    project=\"clustering-portfolios\",\n",
    "    # Track hyperparameters and run metadata.\n",
    "    config={\n",
    "        \"learning_rate\": 0.02,\n",
    "        \"architecture\": \"CNN\",\n",
    "        \"dataset\": \"CIFAR-100\",\n",
    "        \"epochs\": 10,\n",
    "    },\n",
    ")\n",
    "\n",
    "# Simulate training.\n",
    "epochs = 10\n",
    "offset = random.random() / 5\n",
    "for epoch in range(2, epochs):\n",
    "    acc = 1 - 2**-epoch - random.random() / epoch - offset\n",
    "    loss = 2**-epoch + random.random() / epoch + offset\n",
    "\n",
    "    # Log metrics to wandb.\n",
    "    run.log({\"acc\": acc, \"loss\": loss})\n",
    "\n",
    "# Finish the run and upload any remaining data.\n",
    "run.finish()"
   ]
  }
 ],
 "metadata": {
  "kernelspec": {
   "display_name": "thesis_venv",
   "language": "python",
   "name": "python3"
  },
  "language_info": {
   "codemirror_mode": {
    "name": "ipython",
    "version": 3
   },
   "file_extension": ".py",
   "mimetype": "text/x-python",
   "name": "python",
   "nbconvert_exporter": "python",
   "pygments_lexer": "ipython3",
   "version": "3.10.13"
  }
 },
 "nbformat": 4,
 "nbformat_minor": 2
}
